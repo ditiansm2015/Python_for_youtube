{
  "nbformat": 4,
  "nbformat_minor": 0,
  "metadata": {
    "colab": {
      "provenance": [],
      "authorship_tag": "ABX9TyPAQSd5+XjEcV+fIo8MOgjE",
      "include_colab_link": true
    },
    "kernelspec": {
      "name": "python3",
      "display_name": "Python 3"
    },
    "language_info": {
      "name": "python"
    }
  },
  "cells": [
    {
      "cell_type": "markdown",
      "metadata": {
        "id": "view-in-github",
        "colab_type": "text"
      },
      "source": [
        "<a href=\"https://colab.research.google.com/github/ditiansm2015/Python_for_youtube/blob/main/Day_1_Displaying_Outputs_and_Datatypes_in_Python.ipynb\" target=\"_parent\"><img src=\"https://colab.research.google.com/assets/colab-badge.svg\" alt=\"Open In Colab\"/></a>"
      ]
    },
    {
      "cell_type": "markdown",
      "source": [
        "## **This is my first python program**"
      ],
      "metadata": {
        "id": "Eb-GfWlXiS1W"
      }
    },
    {
      "cell_type": "markdown",
      "source": [
        "### **Mathematical operation in python**"
      ],
      "metadata": {
        "id": "AK9yjUYiuz2d"
      }
    },
    {
      "cell_type": "code",
      "source": [
        "3+4"
      ],
      "metadata": {
        "colab": {
          "base_uri": "https://localhost:8080/"
        },
        "id": "LMQ0cnscibR9",
        "outputId": "d0ed7fa2-d4d4-4762-bf3e-a3a2ddd22f96"
      },
      "execution_count": 1,
      "outputs": [
        {
          "output_type": "execute_result",
          "data": {
            "text/plain": [
              "7"
            ]
          },
          "metadata": {},
          "execution_count": 1
        }
      ]
    },
    {
      "cell_type": "code",
      "source": [
        "3*4.5"
      ],
      "metadata": {
        "colab": {
          "base_uri": "https://localhost:8080/"
        },
        "id": "IOfswG6Pibun",
        "outputId": "721ffbbc-ecf6-4df2-c571-2600c70b7fc8"
      },
      "execution_count": 2,
      "outputs": [
        {
          "output_type": "execute_result",
          "data": {
            "text/plain": [
              "13.5"
            ]
          },
          "metadata": {},
          "execution_count": 2
        }
      ]
    },
    {
      "cell_type": "code",
      "source": [
        "3+4.0"
      ],
      "metadata": {
        "colab": {
          "base_uri": "https://localhost:8080/"
        },
        "id": "iNQX85ZWicFD",
        "outputId": "7531ed17-1652-411d-e109-8880ace5098f"
      },
      "execution_count": 4,
      "outputs": [
        {
          "output_type": "execute_result",
          "data": {
            "text/plain": [
              "7.0"
            ]
          },
          "metadata": {},
          "execution_count": 4
        }
      ]
    },
    {
      "cell_type": "code",
      "source": [
        "10/2"
      ],
      "metadata": {
        "colab": {
          "base_uri": "https://localhost:8080/"
        },
        "id": "mJ04ITwhioQt",
        "outputId": "ed099e8d-b2e0-40e3-8818-789aeeccf71d"
      },
      "execution_count": 5,
      "outputs": [
        {
          "output_type": "execute_result",
          "data": {
            "text/plain": [
              "5.0"
            ]
          },
          "metadata": {},
          "execution_count": 5
        }
      ]
    },
    {
      "cell_type": "code",
      "source": [
        "10/3"
      ],
      "metadata": {
        "colab": {
          "base_uri": "https://localhost:8080/"
        },
        "id": "v-Zqm4TCirUA",
        "outputId": "18b3755b-9ad8-45e8-a046-f442bcbc04dd"
      },
      "execution_count": 6,
      "outputs": [
        {
          "output_type": "execute_result",
          "data": {
            "text/plain": [
              "3.3333333333333335"
            ]
          },
          "metadata": {},
          "execution_count": 6
        }
      ]
    },
    {
      "cell_type": "code",
      "source": [
        "10//3"
      ],
      "metadata": {
        "colab": {
          "base_uri": "https://localhost:8080/"
        },
        "id": "XZq1rzVlitPb",
        "outputId": "fcdb002d-767b-4eb0-b6c3-ec30138d5b17"
      },
      "execution_count": 7,
      "outputs": [
        {
          "output_type": "execute_result",
          "data": {
            "text/plain": [
              "3"
            ]
          },
          "metadata": {},
          "execution_count": 7
        }
      ]
    },
    {
      "cell_type": "code",
      "source": [
        "10%3"
      ],
      "metadata": {
        "colab": {
          "base_uri": "https://localhost:8080/"
        },
        "id": "6oeDobk1izWU",
        "outputId": "45191f71-57c1-455b-924b-b11bd5bf66a1"
      },
      "execution_count": 8,
      "outputs": [
        {
          "output_type": "execute_result",
          "data": {
            "text/plain": [
              "1"
            ]
          },
          "metadata": {},
          "execution_count": 8
        }
      ]
    },
    {
      "cell_type": "code",
      "source": [
        "3**2"
      ],
      "metadata": {
        "colab": {
          "base_uri": "https://localhost:8080/"
        },
        "id": "GuE4SHhpi6xE",
        "outputId": "8b5e150a-f26b-409a-dcb0-f1b4f5323327"
      },
      "execution_count": 9,
      "outputs": [
        {
          "output_type": "execute_result",
          "data": {
            "text/plain": [
              "9"
            ]
          },
          "metadata": {},
          "execution_count": 9
        }
      ]
    },
    {
      "cell_type": "code",
      "source": [
        "3**3"
      ],
      "metadata": {
        "colab": {
          "base_uri": "https://localhost:8080/"
        },
        "id": "D1ncqQX-i-rV",
        "outputId": "a9c60ff8-54b8-4b62-c0de-4b5decadce57"
      },
      "execution_count": 10,
      "outputs": [
        {
          "output_type": "execute_result",
          "data": {
            "text/plain": [
              "27"
            ]
          },
          "metadata": {},
          "execution_count": 10
        }
      ]
    },
    {
      "cell_type": "markdown",
      "source": [
        "### **Showing output on screen**"
      ],
      "metadata": {
        "id": "2vI4YerYjB2t"
      }
    },
    {
      "cell_type": "code",
      "source": [
        "print('This is my first python function')"
      ],
      "metadata": {
        "colab": {
          "base_uri": "https://localhost:8080/"
        },
        "id": "wXIeRWOSjFsR",
        "outputId": "3e22c786-5e20-4e05-ef40-56ec7a5a94bd"
      },
      "execution_count": 11,
      "outputs": [
        {
          "output_type": "stream",
          "name": "stdout",
          "text": [
            "This is my first python function\n"
          ]
        }
      ]
    },
    {
      "cell_type": "code",
      "source": [
        "print(\"Hello Mr.\", 7)"
      ],
      "metadata": {
        "colab": {
          "base_uri": "https://localhost:8080/"
        },
        "id": "fMsfYS3SjOV7",
        "outputId": "0c55c2cc-5920-4061-c793-5e6c90bb03e5"
      },
      "execution_count": 12,
      "outputs": [
        {
          "output_type": "stream",
          "name": "stdout",
          "text": [
            "Hello Mr. 7\n"
          ]
        }
      ]
    },
    {
      "cell_type": "markdown",
      "source": [
        "### **sep and end parameters in print()**"
      ],
      "metadata": {
        "id": "781bHdj4jUop"
      }
    },
    {
      "cell_type": "code",
      "source": [
        "print('Hello')\n",
        "print('How')\n",
        "print('are')\n",
        "print('you')"
      ],
      "metadata": {
        "colab": {
          "base_uri": "https://localhost:8080/"
        },
        "id": "DCCwf3X0jS8r",
        "outputId": "45e404ff-f0b3-4a8d-91b4-9396823f7529"
      },
      "execution_count": 13,
      "outputs": [
        {
          "output_type": "stream",
          "name": "stdout",
          "text": [
            "Hello\n",
            "How\n",
            "are\n",
            "you\n"
          ]
        }
      ]
    },
    {
      "cell_type": "code",
      "source": [
        "print('Hello', end =' ')\n",
        "print('How', end =' ')\n",
        "print('are', end =' ')\n",
        "print('you')"
      ],
      "metadata": {
        "colab": {
          "base_uri": "https://localhost:8080/"
        },
        "id": "ULP_yXFsjnWc",
        "outputId": "c4e0fb5d-a5ad-4f3b-c322-cd76acf3d824"
      },
      "execution_count": 15,
      "outputs": [
        {
          "output_type": "stream",
          "name": "stdout",
          "text": [
            "Hello How are you\n"
          ]
        }
      ]
    },
    {
      "cell_type": "code",
      "source": [
        "print('Hello How are You', 'Mr. Sudhanshu Mishra')"
      ],
      "metadata": {
        "colab": {
          "base_uri": "https://localhost:8080/"
        },
        "id": "tb1excL5j51P",
        "outputId": "fded5f33-ee75-42a4-e2a0-f16663a105c6"
      },
      "execution_count": 20,
      "outputs": [
        {
          "output_type": "stream",
          "name": "stdout",
          "text": [
            "Hello How are You Mr. Sudhanshu Mishra\n"
          ]
        }
      ]
    },
    {
      "cell_type": "code",
      "source": [
        "print('Hello How are You', 'Mr. Sudhanshu Mishra', sep = ' AND ')"
      ],
      "metadata": {
        "colab": {
          "base_uri": "https://localhost:8080/"
        },
        "id": "udPyEVQVkBDA",
        "outputId": "31cccb3c-7295-40db-9c12-4f2454aaf673"
      },
      "execution_count": 24,
      "outputs": [
        {
          "output_type": "stream",
          "name": "stdout",
          "text": [
            "Hello How are You AND Mr. Sudhanshu Mishra\n"
          ]
        }
      ]
    },
    {
      "cell_type": "markdown",
      "source": [
        "## **Datatypes in Python**"
      ],
      "metadata": {
        "id": "SWteWRLSuMUA"
      }
    },
    {
      "cell_type": "markdown",
      "source": [
        "### Integer"
      ],
      "metadata": {
        "id": "27inqbS4ueyf"
      }
    },
    {
      "cell_type": "code",
      "source": [
        "print(90089)"
      ],
      "metadata": {
        "colab": {
          "base_uri": "https://localhost:8080/"
        },
        "id": "cOjmJ0guuOO5",
        "outputId": "a7eb850d-80d2-4069-8caa-feb19f16daf6"
      },
      "execution_count": 27,
      "outputs": [
        {
          "output_type": "stream",
          "name": "stdout",
          "text": [
            "90089\n"
          ]
        }
      ]
    },
    {
      "cell_type": "markdown",
      "source": [
        "### float"
      ],
      "metadata": {
        "id": "mGsiQmUmug1R"
      }
    },
    {
      "cell_type": "code",
      "source": [
        "print(6.456)"
      ],
      "metadata": {
        "colab": {
          "base_uri": "https://localhost:8080/"
        },
        "id": "xEC0hO-8uORL",
        "outputId": "fd50be1d-8eaf-413f-b923-ae74ca696eba"
      },
      "execution_count": 28,
      "outputs": [
        {
          "output_type": "stream",
          "name": "stdout",
          "text": [
            "6.456\n"
          ]
        }
      ]
    },
    {
      "cell_type": "markdown",
      "source": [
        "### boolean"
      ],
      "metadata": {
        "id": "akx_EptEuiRs"
      }
    },
    {
      "cell_type": "code",
      "source": [
        "print(False)"
      ],
      "metadata": {
        "colab": {
          "base_uri": "https://localhost:8080/"
        },
        "id": "kY58iE0RuOTi",
        "outputId": "6f40adb3-cc06-4765-f440-67845228be5e"
      },
      "execution_count": 30,
      "outputs": [
        {
          "output_type": "stream",
          "name": "stdout",
          "text": [
            "False\n"
          ]
        }
      ]
    },
    {
      "cell_type": "markdown",
      "source": [
        "### string"
      ],
      "metadata": {
        "id": "kiFgiwccujiL"
      }
    },
    {
      "cell_type": "code",
      "source": [
        "print('Hello Sudhanshu')"
      ],
      "metadata": {
        "colab": {
          "base_uri": "https://localhost:8080/"
        },
        "id": "bNzrNf6ZuOWI",
        "outputId": "df2f308f-beb9-42b4-9aa5-e82ad831cd9b"
      },
      "execution_count": 31,
      "outputs": [
        {
          "output_type": "stream",
          "name": "stdout",
          "text": [
            "Hello Sudhanshu\n"
          ]
        }
      ]
    },
    {
      "cell_type": "markdown",
      "source": [
        "### complex number"
      ],
      "metadata": {
        "id": "XjZT8mS7ulOT"
      }
    },
    {
      "cell_type": "code",
      "source": [
        "print(5j)"
      ],
      "metadata": {
        "colab": {
          "base_uri": "https://localhost:8080/"
        },
        "id": "1Zl9co7suOYv",
        "outputId": "8cc56958-e1a5-4cfb-8ab3-0e594d988140"
      },
      "execution_count": 33,
      "outputs": [
        {
          "output_type": "stream",
          "name": "stdout",
          "text": [
            "5j\n"
          ]
        }
      ]
    },
    {
      "cell_type": "markdown",
      "source": [
        "### list"
      ],
      "metadata": {
        "id": "DGBNuoPaum9u"
      }
    },
    {
      "cell_type": "code",
      "source": [
        "print([1,2,3,4.55, True, 'Hello', 5+6j])"
      ],
      "metadata": {
        "colab": {
          "base_uri": "https://localhost:8080/"
        },
        "id": "9kFJnTUMuOgl",
        "outputId": "fd45a18a-c6ea-4c1d-8216-8e95c79cf205"
      },
      "execution_count": 34,
      "outputs": [
        {
          "output_type": "stream",
          "name": "stdout",
          "text": [
            "[1, 2, 3, 4.55, True, 'Hello', (5+6j)]\n"
          ]
        }
      ]
    },
    {
      "cell_type": "markdown",
      "source": [
        "### tuple"
      ],
      "metadata": {
        "id": "Q_JDY-N2uon9"
      }
    },
    {
      "cell_type": "code",
      "source": [
        "print((1,2,3.4, False, 'Hello World', 7+9j))"
      ],
      "metadata": {
        "colab": {
          "base_uri": "https://localhost:8080/"
        },
        "id": "ccAOJIZEuUby",
        "outputId": "bd163e64-f677-4cc7-bad0-aea231c4b98e"
      },
      "execution_count": 35,
      "outputs": [
        {
          "output_type": "stream",
          "name": "stdout",
          "text": [
            "(1, 2, 3.4, False, 'Hello World', (7+9j))\n"
          ]
        }
      ]
    },
    {
      "cell_type": "markdown",
      "source": [
        "### sets"
      ],
      "metadata": {
        "id": "wEOHoCHRurGj"
      }
    },
    {
      "cell_type": "code",
      "source": [
        "print({1,1,2,2,3,4,5.5,5.5,2, False, False, True, True, 5+ 6j, 5+6j})"
      ],
      "metadata": {
        "colab": {
          "base_uri": "https://localhost:8080/"
        },
        "id": "Gcdrd84auZaA",
        "outputId": "73345355-bc17-44b2-cc6b-b7ddc798e12d"
      },
      "execution_count": 39,
      "outputs": [
        {
          "output_type": "stream",
          "name": "stdout",
          "text": [
            "{False, 1, 2, 3, 4, 5.5, (5+6j)}\n"
          ]
        }
      ]
    },
    {
      "cell_type": "markdown",
      "source": [
        "### dictionary"
      ],
      "metadata": {
        "id": "Bm3um86Vusy5"
      }
    },
    {
      "cell_type": "code",
      "source": [
        "print({'Maths' : 30, 'English':23, 'EVS':99, 'Hindi': 100})"
      ],
      "metadata": {
        "colab": {
          "base_uri": "https://localhost:8080/"
        },
        "id": "M3_pryZRuUeY",
        "outputId": "32c2c254-59cb-4896-9221-50c8f4722e66"
      },
      "execution_count": 40,
      "outputs": [
        {
          "output_type": "stream",
          "name": "stdout",
          "text": [
            "{'Maths': 30, 'English': 23, 'EVS': 99, 'Hindi': 100}\n"
          ]
        }
      ]
    }
  ]
}