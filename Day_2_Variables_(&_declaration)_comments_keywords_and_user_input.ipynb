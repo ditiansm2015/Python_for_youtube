{
  "nbformat": 4,
  "nbformat_minor": 0,
  "metadata": {
    "colab": {
      "provenance": [],
      "authorship_tag": "ABX9TyOzwbkNnIn5p60J/LSB0ana",
      "include_colab_link": true
    },
    "kernelspec": {
      "name": "python3",
      "display_name": "Python 3"
    },
    "language_info": {
      "name": "python"
    }
  },
  "cells": [
    {
      "cell_type": "markdown",
      "metadata": {
        "id": "view-in-github",
        "colab_type": "text"
      },
      "source": [
        "<a href=\"https://colab.research.google.com/github/ditiansm2015/Python_for_youtube/blob/main/Day_2_Variables_(%26_declaration)_comments_keywords_and_user_input.ipynb\" target=\"_parent\"><img src=\"https://colab.research.google.com/assets/colab-badge.svg\" alt=\"Open In Colab\"/></a>"
      ]
    },
    {
      "cell_type": "markdown",
      "source": [
        "### **We are on Day 2 of python**"
      ],
      "metadata": {
        "id": "CroYg0y0o1Vu"
      }
    },
    {
      "cell_type": "markdown",
      "source": [
        "**Variables**"
      ],
      "metadata": {
        "id": "lMVxubCro4v8"
      }
    },
    {
      "cell_type": "code",
      "execution_count": null,
      "metadata": {
        "id": "wBWpOWw1oyW2"
      },
      "outputs": [],
      "source": [
        "x = 5.6\n",
        "y = 2\n",
        "z = 'Hello'"
      ]
    },
    {
      "cell_type": "code",
      "source": [
        "print(x,  y,z)"
      ],
      "metadata": {
        "colab": {
          "base_uri": "https://localhost:8080/"
        },
        "id": "KMeMuXlTo-Xz",
        "outputId": "7d1ac9d2-293a-4ef2-d07b-b2730eb6dfe2"
      },
      "execution_count": null,
      "outputs": [
        {
          "output_type": "stream",
          "name": "stdout",
          "text": [
            "5.6 2 Hello\n"
          ]
        }
      ]
    },
    {
      "cell_type": "markdown",
      "source": [
        "**Static and Dynamic typing**"
      ],
      "metadata": {
        "id": "7WYCLo2nqHbY"
      }
    },
    {
      "cell_type": "code",
      "source": [
        "# java  - static typing\n",
        "\n",
        "int a = 5\n",
        "float b = 5.6\n",
        "string c = 'Hello world'"
      ],
      "metadata": {
        "colab": {
          "base_uri": "https://localhost:8080/",
          "height": 130
        },
        "id": "2dO2y9KdqVCd",
        "outputId": "e8c85308-c346-4aef-d5a7-ae73d18e17c5"
      },
      "execution_count": null,
      "outputs": [
        {
          "output_type": "error",
          "ename": "SyntaxError",
          "evalue": "ignored",
          "traceback": [
            "\u001b[0;36m  File \u001b[0;32m\"<ipython-input-6-4a39e8a495db>\"\u001b[0;36m, line \u001b[0;32m3\u001b[0m\n\u001b[0;31m    int a = 5\u001b[0m\n\u001b[0m        ^\u001b[0m\n\u001b[0;31mSyntaxError\u001b[0m\u001b[0;31m:\u001b[0m invalid syntax\n"
          ]
        }
      ]
    },
    {
      "cell_type": "code",
      "source": [
        "# python - dynamic typing\n",
        "\n",
        "a = 5\n",
        "b = 5.6\n",
        "c = 'Hello World'\n",
        "\n",
        "print(a, b , c)"
      ],
      "metadata": {
        "colab": {
          "base_uri": "https://localhost:8080/"
        },
        "id": "iLGyTOpiqVFR",
        "outputId": "344f5d87-711b-40b1-da92-e4a9c546215b"
      },
      "execution_count": null,
      "outputs": [
        {
          "output_type": "stream",
          "name": "stdout",
          "text": [
            "5 5.6 Hello World\n"
          ]
        }
      ]
    },
    {
      "cell_type": "markdown",
      "source": [
        "**Stylish Declaration**"
      ],
      "metadata": {
        "id": "rLHQTfEIrdPg"
      }
    },
    {
      "cell_type": "code",
      "source": [
        "a = 5\n",
        "b = 6.5\n",
        "c = 'Hello'\n",
        "d = False\n",
        "\n",
        "print(a,b,c,d)"
      ],
      "metadata": {
        "colab": {
          "base_uri": "https://localhost:8080/"
        },
        "id": "48AfAwFOrj0I",
        "outputId": "b671eb87-ebcc-45ab-eb6e-a8d846a770ed"
      },
      "execution_count": null,
      "outputs": [
        {
          "output_type": "stream",
          "name": "stdout",
          "text": [
            "5 6.5 Hello False\n"
          ]
        }
      ]
    },
    {
      "cell_type": "code",
      "source": [
        " a, b ,c,d = 5 , 6.5,'Hello',False"
      ],
      "metadata": {
        "id": "WONXBtmrrj5T"
      },
      "execution_count": null,
      "outputs": []
    },
    {
      "cell_type": "code",
      "source": [
        "print(a,b,c,d)"
      ],
      "metadata": {
        "colab": {
          "base_uri": "https://localhost:8080/"
        },
        "id": "Qu9TKS-2r9tZ",
        "outputId": "6f2efd39-9977-45e2-a19c-85fe2a4c0650"
      },
      "execution_count": null,
      "outputs": [
        {
          "output_type": "stream",
          "name": "stdout",
          "text": [
            "5 6.5 Hello False\n"
          ]
        }
      ]
    },
    {
      "cell_type": "markdown",
      "source": [
        "**Comments**"
      ],
      "metadata": {
        "id": "XUHuh7QdsYrt"
      }
    },
    {
      "cell_type": "code",
      "source": [
        "# this is the code to add two numbers\n",
        "# this is second line of the comment just to demonstrate that for each line of comment you should \n",
        "# put a '#' first\n",
        "\n",
        "b = 3\n",
        "c = 4\n",
        "d = a+b"
      ],
      "metadata": {
        "id": "HlzYkMD0sB3i"
      },
      "execution_count": null,
      "outputs": []
    },
    {
      "cell_type": "code",
      "source": [
        "# another way of stylish declaration - comment\n",
        "\n",
        "a = b = c = 5\n",
        "print(a,b,c)"
      ],
      "metadata": {
        "colab": {
          "base_uri": "https://localhost:8080/"
        },
        "id": "P0zEiHDPs9Ne",
        "outputId": "11fb9c65-93c4-4953-829a-347e37f4eb44"
      },
      "execution_count": null,
      "outputs": [
        {
          "output_type": "stream",
          "name": "stdout",
          "text": [
            "5 5 5\n"
          ]
        }
      ]
    },
    {
      "cell_type": "code",
      "source": [
        "\"\"\" This is how you can \n",
        "    write multi line comment\n",
        "    by using three doubt inverted comas but this way of commenting is not preferred in companies\"\"\"\n",
        "\n",
        "\n",
        "a = 5\n",
        "b = 6\n",
        "c = a*b\n",
        "print(c)"
      ],
      "metadata": {
        "colab": {
          "base_uri": "https://localhost:8080/"
        },
        "id": "ez--zI5wtmnA",
        "outputId": "b8062b11-144e-4f20-e4fe-fcee12a3edf1"
      },
      "execution_count": null,
      "outputs": [
        {
          "output_type": "stream",
          "name": "stdout",
          "text": [
            "30\n"
          ]
        }
      ]
    },
    {
      "cell_type": "markdown",
      "source": [
        "**Keywords and identifiers**"
      ],
      "metadata": {
        "id": "JMEk4CoRubFF"
      }
    },
    {
      "cell_type": "code",
      "source": [
        "# keywords\n",
        "\n",
        "import keyword\n",
        "list = keyword.kwlist\n",
        "\n",
        "print(list)"
      ],
      "metadata": {
        "colab": {
          "base_uri": "https://localhost:8080/"
        },
        "id": "cjHoaWdmscs_",
        "outputId": "d8b91ad9-b3f3-4a98-9e9d-82b5af89c79b"
      },
      "execution_count": null,
      "outputs": [
        {
          "output_type": "stream",
          "name": "stdout",
          "text": [
            "['False', 'None', 'True', 'and', 'as', 'assert', 'async', 'await', 'break', 'class', 'continue', 'def', 'del', 'elif', 'else', 'except', 'finally', 'for', 'from', 'global', 'if', 'import', 'in', 'is', 'lambda', 'nonlocal', 'not', 'or', 'pass', 'raise', 'return', 'try', 'while', 'with', 'yield']\n"
          ]
        }
      ]
    },
    {
      "cell_type": "code",
      "source": [
        "AS = 'Hello'"
      ],
      "metadata": {
        "id": "EpQSvkNiuior"
      },
      "execution_count": null,
      "outputs": []
    },
    {
      "cell_type": "code",
      "source": [
        "# identifiers - that uniquely identifies an entity\n",
        "\n",
        "gift = 'pen'"
      ],
      "metadata": {
        "id": "6rNMBRHtuiq-"
      },
      "execution_count": null,
      "outputs": []
    },
    {
      "cell_type": "markdown",
      "source": [
        "**User input**"
      ],
      "metadata": {
        "id": "L_o2v9jEvz7c"
      }
    },
    {
      "cell_type": "code",
      "source": [
        "name = input('Enter your name')\n",
        "print(name)"
      ],
      "metadata": {
        "colab": {
          "base_uri": "https://localhost:8080/"
        },
        "id": "ekDOITsiv217",
        "outputId": "b60e02a3-dd18-47d0-f8c8-8e3174be9749"
      },
      "execution_count": null,
      "outputs": [
        {
          "output_type": "stream",
          "name": "stdout",
          "text": [
            "Enter your nameSUdhanshu\n",
            "SUdhanshu\n"
          ]
        }
      ]
    },
    {
      "cell_type": "code",
      "source": [
        "number1 = input('Enter first number')\n",
        "number2 = input('Enter second number') "
      ],
      "metadata": {
        "colab": {
          "base_uri": "https://localhost:8080/"
        },
        "id": "6ufO4Lcov24e",
        "outputId": "ce479f93-ee17-4bd6-9afe-2b9879ff48ac"
      },
      "execution_count": null,
      "outputs": [
        {
          "name": "stdout",
          "output_type": "stream",
          "text": [
            "Enter first number10\n",
            "Enter second number5\n"
          ]
        }
      ]
    },
    {
      "cell_type": "code",
      "source": [
        "print(number1)\n",
        "print(number2)"
      ],
      "metadata": {
        "colab": {
          "base_uri": "https://localhost:8080/"
        },
        "id": "Ega76LUiv260",
        "outputId": "4c27d510-29c2-4a8d-b8d5-cec235eeaa41"
      },
      "execution_count": null,
      "outputs": [
        {
          "output_type": "stream",
          "name": "stdout",
          "text": [
            "10\n",
            "5\n"
          ]
        }
      ]
    },
    {
      "cell_type": "code",
      "source": [
        "sum = number1 + number2   # concatenation of two strings\n",
        "print(sum)"
      ],
      "metadata": {
        "colab": {
          "base_uri": "https://localhost:8080/"
        },
        "id": "aCP6R25bwg4h",
        "outputId": "d2300a39-0da2-466a-c420-d5cfbc8022be"
      },
      "execution_count": null,
      "outputs": [
        {
          "output_type": "stream",
          "name": "stdout",
          "text": [
            "105\n"
          ]
        }
      ]
    },
    {
      "cell_type": "code",
      "source": [
        "subtract = number1 - number2"
      ],
      "metadata": {
        "colab": {
          "base_uri": "https://localhost:8080/",
          "height": 164
        },
        "id": "HGdNdLDdwhAk",
        "outputId": "cbd02ae3-85b9-46c2-c6fd-746c1628900c"
      },
      "execution_count": null,
      "outputs": [
        {
          "output_type": "error",
          "ename": "TypeError",
          "evalue": "ignored",
          "traceback": [
            "\u001b[0;31m---------------------------------------------------------------------------\u001b[0m",
            "\u001b[0;31mTypeError\u001b[0m                                 Traceback (most recent call last)",
            "\u001b[0;32m<ipython-input-36-e3d5fe040571>\u001b[0m in \u001b[0;36m<module>\u001b[0;34m\u001b[0m\n\u001b[0;32m----> 1\u001b[0;31m \u001b[0msubtract\u001b[0m \u001b[0;34m=\u001b[0m \u001b[0mnumber1\u001b[0m \u001b[0;34m-\u001b[0m \u001b[0mnumber2\u001b[0m\u001b[0;34m\u001b[0m\u001b[0;34m\u001b[0m\u001b[0m\n\u001b[0m",
            "\u001b[0;31mTypeError\u001b[0m: unsupported operand type(s) for -: 'str' and 'str'"
          ]
        }
      ]
    },
    {
      "cell_type": "code",
      "source": [
        "multi = number1*number2"
      ],
      "metadata": {
        "colab": {
          "base_uri": "https://localhost:8080/",
          "height": 164
        },
        "id": "IsF5Ah_qw3ij",
        "outputId": "338e5e6d-9e9e-4d66-cd7e-3426cab754b6"
      },
      "execution_count": null,
      "outputs": [
        {
          "output_type": "error",
          "ename": "TypeError",
          "evalue": "ignored",
          "traceback": [
            "\u001b[0;31m---------------------------------------------------------------------------\u001b[0m",
            "\u001b[0;31mTypeError\u001b[0m                                 Traceback (most recent call last)",
            "\u001b[0;32m<ipython-input-37-35750c0e23b1>\u001b[0m in \u001b[0;36m<module>\u001b[0;34m\u001b[0m\n\u001b[0;32m----> 1\u001b[0;31m \u001b[0mmulti\u001b[0m \u001b[0;34m=\u001b[0m \u001b[0mnumber1\u001b[0m\u001b[0;34m*\u001b[0m\u001b[0mnumber2\u001b[0m\u001b[0;34m\u001b[0m\u001b[0;34m\u001b[0m\u001b[0m\n\u001b[0m",
            "\u001b[0;31mTypeError\u001b[0m: can't multiply sequence by non-int of type 'str'"
          ]
        }
      ]
    },
    {
      "cell_type": "code",
      "source": [
        "# type()\n",
        "\n",
        "type(number1)"
      ],
      "metadata": {
        "colab": {
          "base_uri": "https://localhost:8080/"
        },
        "id": "efnsJmyQxABf",
        "outputId": "cb62ff4c-a13d-4178-9a31-26c1a16e11bd"
      },
      "execution_count": null,
      "outputs": [
        {
          "output_type": "execute_result",
          "data": {
            "text/plain": [
              "str"
            ]
          },
          "metadata": {},
          "execution_count": 38
        }
      ]
    },
    {
      "cell_type": "code",
      "source": [
        "type(number2)"
      ],
      "metadata": {
        "colab": {
          "base_uri": "https://localhost:8080/"
        },
        "id": "ukJAvGMtxFUz",
        "outputId": "0bf80006-f5fe-4571-a052-a0112a9737b0"
      },
      "execution_count": null,
      "outputs": [
        {
          "output_type": "execute_result",
          "data": {
            "text/plain": [
              "str"
            ]
          },
          "metadata": {},
          "execution_count": 39
        }
      ]
    }
  ]
}